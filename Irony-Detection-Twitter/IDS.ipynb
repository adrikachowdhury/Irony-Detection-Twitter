{
  "cells": [
    {
      "cell_type": "code",
      "execution_count": 1,
      "metadata": {
        "colab": {
          "base_uri": "https://localhost:8080/"
        },
        "collapsed": true,
        "id": "mp6hKhiOBKve",
        "outputId": "018b6460-7168-414c-cefb-dec153c17eb4"
      },
      "outputs": [
        {
          "output_type": "stream",
          "name": "stdout",
          "text": [
            "Collecting langdetect\n",
            "  Downloading langdetect-1.0.9.tar.gz (981 kB)\n",
            "\u001b[?25l     \u001b[90m━━━━━━━━━━━━━━━━━━━━━━━━━━━━━━━━━━━━━━━━\u001b[0m \u001b[32m0.0/981.5 kB\u001b[0m \u001b[31m?\u001b[0m eta \u001b[36m-:--:--\u001b[0m\r\u001b[2K     \u001b[91m━━━━\u001b[0m\u001b[91m╸\u001b[0m\u001b[90m━━━━━━━━━━━━━━━━━━━━━━━━━━━━━━━━━━\u001b[0m \u001b[32m122.9/981.5 kB\u001b[0m \u001b[31m4.2 MB/s\u001b[0m eta \u001b[36m0:00:01\u001b[0m\r\u001b[2K     \u001b[91m━━━━━━━━━━━━━━━━━━━━━━━━━━━━━━━━━━━━━\u001b[0m\u001b[91m╸\u001b[0m \u001b[32m972.8/981.5 kB\u001b[0m \u001b[31m14.5 MB/s\u001b[0m eta \u001b[36m0:00:01\u001b[0m\r\u001b[2K     \u001b[90m━━━━━━━━━━━━━━━━━━━━━━━━━━━━━━━━━━━━━━\u001b[0m \u001b[32m981.5/981.5 kB\u001b[0m \u001b[31m12.0 MB/s\u001b[0m eta \u001b[36m0:00:00\u001b[0m\n",
            "\u001b[?25h  Preparing metadata (setup.py) ... \u001b[?25l\u001b[?25hdone\n",
            "Collecting emoticon-fix\n",
            "  Downloading emoticon_fix-0.1.4-py3-none-any.whl.metadata (6.7 kB)\n",
            "Requirement already satisfied: six in /usr/local/lib/python3.11/dist-packages (from langdetect) (1.17.0)\n",
            "Downloading emoticon_fix-0.1.4-py3-none-any.whl (9.3 kB)\n",
            "Building wheels for collected packages: langdetect\n",
            "  Building wheel for langdetect (setup.py) ... \u001b[?25l\u001b[?25hdone\n",
            "  Created wheel for langdetect: filename=langdetect-1.0.9-py3-none-any.whl size=993223 sha256=2ee93015ce1457f8a503419d5e8bfab9990c24e7908ddd75bdc39b0574da6219\n",
            "  Stored in directory: /root/.cache/pip/wheels/0a/f2/b2/e5ca405801e05eb7c8ed5b3b4bcf1fcabcd6272c167640072e\n",
            "Successfully built langdetect\n",
            "Installing collected packages: langdetect, emoticon-fix\n",
            "Successfully installed emoticon-fix-0.1.4 langdetect-1.0.9\n"
          ]
        }
      ],
      "source": [
        "!pip install langdetect emoticon-fix"
      ]
    },
    {
      "cell_type": "code",
      "source": [
        "nltk.download('punkt_tab')"
      ],
      "metadata": {
        "colab": {
          "base_uri": "https://localhost:8080/"
        },
        "id": "qjnOYWOcvQyp",
        "outputId": "06a33b1a-b3b0-4376-cf4a-bd1988e89a60"
      },
      "execution_count": 23,
      "outputs": [
        {
          "metadata": {
            "tags": null
          },
          "name": "stderr",
          "output_type": "stream",
          "text": [
            "[nltk_data] Downloading package punkt_tab to /root/nltk_data...\n",
            "[nltk_data]   Unzipping tokenizers/punkt_tab.zip.\n"
          ]
        },
        {
          "data": {
            "text/plain": [
              "True"
            ]
          },
          "execution_count": 23,
          "metadata": {},
          "output_type": "execute_result"
        }
      ]
    },
    {
      "cell_type": "code",
      "source": [
        "import matplotlib.pyplot as plt\n",
        "import seaborn as sns\n",
        "from collections import Counter"
      ],
      "metadata": {
        "id": "Ff0A0VzBxhlh"
      },
      "execution_count": 33,
      "outputs": []
    },
    {
      "cell_type": "code",
      "source": [
        "import csv\n",
        "import codecs\n",
        "import sys\n",
        "import io\n",
        "import nltk\n",
        "import unicodedata\n",
        "import numpy as np"
      ],
      "metadata": {
        "id": "UmUi0QEutkNb"
      },
      "execution_count": 2,
      "outputs": []
    },
    {
      "cell_type": "code",
      "source": [
        "#For Classifier\n",
        "from sklearn.pipeline import Pipeline\n",
        "from sklearn.feature_extraction.text import CountVectorizer, TfidfTransformer"
      ],
      "metadata": {
        "id": "J3a29M9PtoCD"
      },
      "execution_count": 3,
      "outputs": []
    },
    {
      "cell_type": "code",
      "source": [
        "#Different Classifiers\n",
        "from sklearn.naive_bayes import MultinomialNB\n",
        "from sklearn.ensemble import RandomForestClassifier\n",
        "from sklearn.linear_model import SGDClassifier, LogisticRegression\n",
        "from sklearn.neural_network import MLPClassifier\n",
        "from sklearn.svm import LinearSVC\n",
        "from sklearn.tree import DecisionTreeClassifier"
      ],
      "metadata": {
        "id": "X2aCWs1_tqTr"
      },
      "execution_count": 4,
      "outputs": []
    },
    {
      "cell_type": "code",
      "source": [
        "#Python script for Confusion Matrix\n",
        "from sklearn.metrics import *"
      ],
      "metadata": {
        "id": "UJbqQBlUtrwT"
      },
      "execution_count": 5,
      "outputs": []
    },
    {
      "cell_type": "code",
      "source": [
        "#Emoticon\n",
        "from emoticon_fix import emoticon_fix\n",
        "\n",
        "def EmotToText(text):\n",
        "  return emoticon_fix(text)"
      ],
      "metadata": {
        "id": "wmWgo6eUttHC"
      },
      "execution_count": 19,
      "outputs": []
    },
    {
      "cell_type": "code",
      "source": [
        "#For Stopword Removal\n",
        "from nltk.corpus import stopwords\n",
        "nltk.download('stopwords')\n",
        "nltk.download('punkt')\n",
        "from nltk.tokenize import word_tokenize, TweetTokenizer"
      ],
      "metadata": {
        "colab": {
          "base_uri": "https://localhost:8080/"
        },
        "id": "Zd5Ckr98tx7U",
        "outputId": "434e21a1-cd5f-4cc4-9935-a8b6694aff28"
      },
      "execution_count": 7,
      "outputs": [
        {
          "output_type": "stream",
          "name": "stderr",
          "text": [
            "[nltk_data] Downloading package stopwords to /root/nltk_data...\n",
            "[nltk_data]   Unzipping corpora/stopwords.zip.\n",
            "[nltk_data] Downloading package punkt to /root/nltk_data...\n",
            "[nltk_data]   Unzipping tokenizers/punkt.zip.\n"
          ]
        }
      ]
    },
    {
      "cell_type": "code",
      "source": [
        "#For Snowball Stemming\n",
        "from nltk.stem.snowball import SnowballStemmer"
      ],
      "metadata": {
        "id": "20q3dO_Mtyrb"
      },
      "execution_count": 8,
      "outputs": []
    },
    {
      "cell_type": "code",
      "source": [
        "#For language detection\n",
        "from langdetect import detect"
      ],
      "metadata": {
        "id": "MmwPHhyYtz1C"
      },
      "execution_count": 9,
      "outputs": []
    },
    {
      "cell_type": "code",
      "source": [
        "#For tokenization (imported TweetTokenizer)\n",
        "tknzr = TweetTokenizer()\n",
        "\n",
        "def performTkn(text):\n",
        "  token = [tkn for tkn in tknzr.tokenize(text)]\n",
        "\n",
        "  return (\" \").join(token)"
      ],
      "metadata": {
        "id": "mqd1u0Aet32Y"
      },
      "execution_count": 10,
      "outputs": []
    },
    {
      "cell_type": "code",
      "source": [
        "def performLangDetect(text):\n",
        "  return detect(text)"
      ],
      "metadata": {
        "id": "GZ0hzPxnt4hJ"
      },
      "execution_count": 11,
      "outputs": []
    },
    {
      "cell_type": "code",
      "source": [
        "def performAccent(text):\n",
        "  asciitext = unicodedata.normalize('NFD', text).encode('ascii', 'ignore').decode('utf-8')\n",
        "\n",
        "  return asciitext"
      ],
      "metadata": {
        "id": "Dm41ByDzt7DL"
      },
      "execution_count": 12,
      "outputs": []
    },
    {
      "cell_type": "code",
      "source": [
        "#Stopword Removal\n",
        "def peformStopWordRemoval(text):\n",
        "  text_tokens = word_tokenize(text)\n",
        "\n",
        "  tokens_without_sw = [word for word in text_tokens if word.lower() not in stopwords.words()]\n",
        "  stopWordRemovedText = (\" \").join(tokens_without_sw)\n",
        "\n",
        "  return stopWordRemovedText"
      ],
      "metadata": {
        "id": "5ELhQ2CFt8OK"
      },
      "execution_count": 13,
      "outputs": []
    },
    {
      "cell_type": "code",
      "source": [
        "#Stemming\n",
        "snow_stemmer = SnowballStemmer(language='english')\n",
        "\n",
        "def peformStemming(text):\n",
        "  wordTok = word_tokenize(text)\n",
        "\n",
        "  stemming = [snow_stemmer.stem(word) for word in wordTok]\n",
        "  stemmedText = (\" \").join(stemming)\n",
        "\n",
        "  return stemmedText"
      ],
      "metadata": {
        "id": "UZ9L-GpBt94T"
      },
      "execution_count": 14,
      "outputs": []
    },
    {
      "cell_type": "markdown",
      "source": [
        "## **Data Preprocessing Module**\n",
        "Preprocess text with emoticon conversion, stemming, stopword removal, and tokenization.\n",
        "\n",
        "    Args:\n",
        "        text (str): Input text.\n",
        "    Returns:\n",
        "        str: Preprocessed text."
      ],
      "metadata": {
        "id": "9-V8Ho6P5N4-"
      }
    },
    {
      "cell_type": "code",
      "source": [
        "def preProcessingModule(text):\n",
        "  getEmotText = EmotToText(text)\n",
        "  getStemmedText = peformStemming(getEmotText)\n",
        "  getStopWordRemovedText = peformStopWordRemoval(getStemmedText)\n",
        "  getAccent = performAccent(getStopWordRemovedText)\n",
        "  getTkn = performTkn(getAccent)\n",
        "  getLang = performLangDetect(text)\n",
        "\n",
        "  final_out = getTkn\n",
        "\n",
        "  # print(getLang)\n",
        "\n",
        "  return final_out"
      ],
      "metadata": {
        "id": "CuzRz1ZUuBsx"
      },
      "execution_count": 37,
      "outputs": []
    },
    {
      "cell_type": "markdown",
      "source": [
        "## **Train Dataset Loader**"
      ],
      "metadata": {
        "id": "_wwOD9EzuObw"
      }
    },
    {
      "cell_type": "code",
      "execution_count": 64,
      "metadata": {
        "id": "swIqL7FahJ8d",
        "colab": {
          "base_uri": "https://localhost:8080/",
          "height": 1000
        },
        "outputId": "c60bb522-fb29-47a4-cb9e-818e41fad5e7"
      },
      "outputs": [
        {
          "output_type": "stream",
          "name": "stderr",
          "text": [
            "/usr/local/lib/python3.11/dist-packages/sklearn/neural_network/_multilayer_perceptron.py:691: ConvergenceWarning: Stochastic Optimizer: Maximum iterations (200) reached and the optimization hasn't converged yet.\n",
            "  warnings.warn(\n",
            "<ipython-input-64-c0ee617aaaa6>:80: FutureWarning: \n",
            "\n",
            "Passing `palette` without assigning `hue` is deprecated and will be removed in v0.14.0. Assign the `x` variable to `hue` and set `legend=False` for the same effect.\n",
            "\n",
            "  sns_bar_train = sns.barplot(\n"
          ]
        },
        {
          "output_type": "display_data",
          "data": {
            "text/plain": [
              "<Figure size 800x500 with 1 Axes>"
            ],
            "image/png": "[encoded data removed]"
          },
          "metadata": {}
        },
        {
          "output_type": "stream",
          "name": "stderr",
          "text": [
            "<ipython-input-64-c0ee617aaaa6>:106: FutureWarning: \n",
            "\n",
            "Passing `palette` without assigning `hue` is deprecated and will be removed in v0.14.0. Assign the `x` variable to `hue` and set `legend=False` for the same effect.\n",
            "\n",
            "  sns_bar_test = sns.barplot(\n"
          ]
        },
        {
          "output_type": "display_data",
          "data": {
            "text/plain": [
              "<Figure size 800x500 with 1 Axes>"
            ],
            "image/png": "[encoded data removed]"
          },
          "metadata": {}
        },
        {
          "output_type": "stream",
          "name": "stdout",
          "text": [
            "Confusion Matrix: \n",
            "[[12  2]\n",
            " [15 11]]\n",
            "Macro-Average Recall Score:  0.6401098901098901\n",
            "Macro-Average Precision Score:  0.6452991452991452\n",
            "Macro-Average F1-Score:  0.5747342088805503\n",
            "Accuracy:  0.575\n",
            "Evaluation Report: \n",
            "              precision    recall  f1-score   support\n",
            "\n",
            "       Irony       0.44      0.86      0.59        14\n",
            "   Non-Irony       0.85      0.42      0.56        26\n",
            "\n",
            "    accuracy                           0.57        40\n",
            "   macro avg       0.65      0.64      0.57        40\n",
            "weighted avg       0.71      0.57      0.57        40\n",
            "\n"
          ]
        }
      ],
      "source": [
        "def main():\n",
        "  \"\"\"Training dataset loader\"\"\"\n",
        "  tweets = []\n",
        "  label = []\n",
        "  csv.field_size_limit(500 * 1024 * 1024)\n",
        "  with open('/content/drive/MyDrive/Colab Notebooks/IronyDetectionSmall_TrainDataset.txt', 'r') as f:\n",
        "    next(f)\n",
        "    reader=csv.reader(f, dialect=\"excel-tab\")\n",
        "    for line in reader:\n",
        "      #print(line[2])\n",
        "      preProcessedTweetText= preProcessingModule(line[2])\n",
        "      # print(preProcessedTweetText)\n",
        "      tweets.append(preProcessedTweetText)\n",
        "      if (line[1] == \"1\"):\n",
        "        label.append(\"Irony\")\n",
        "      else:\n",
        "        label.append(\"Non-Irony\")\n",
        "\n",
        "    #print(label)\n",
        "\n",
        "  #Converting list to array\n",
        "  X_train = np.array(tweets)\n",
        "  Y_train = np.array(label)\n",
        "\n",
        "  # print()\n",
        "  # print(X_train)\n",
        "  # print()\n",
        "  # print(Y_train)\n",
        "  # print()\n",
        "\n",
        "  #Define Classifier / Extracting Features\n",
        "  #CountVectorizer - scikit-learn's bag of words tool\n",
        "  classifier = Pipeline([ #Pipeline- all 3 segments are combined into a single module\n",
        "    ('count_vectorizer', CountVectorizer(ngram_range=(1, 3))), #CountVectorizer- Convert document into word matrix using only TF\n",
        "    ('tfidf', TfidfTransformer(norm = 'l1', use_idf = True, smooth_idf= True)), #Using IDF; smooth_IDF to eliminate division by zero error\n",
        "    ('clf', MLPClassifier(hidden_layer_sizes=(100,), activation='relu', solver='adam', alpha=2e-5, batch_size='auto', learning_rate_init=0.001, max_iter=200))])\n",
        "\n",
        "  \"\"\"\n",
        "  L2 norm - ensures that the sum of the squares of the vector elements equals 1\n",
        "  \"\"\"\n",
        "\n",
        "  #Train (fit) Classifier\n",
        "  \"\"\"\n",
        "  fit- runs through each step in the Pipeline sequentially, applying transformations\n",
        "  and finally fitting the classifier\n",
        "  \"\"\"\n",
        "  classifier.fit(X_train, Y_train)\n",
        "\n",
        "  \"\"\"Test dataset loader\"\"\"\n",
        "\n",
        "  testTweets = []\n",
        "  testLabelGold = [] #True labels\n",
        "  csv.field_size_limit(500 * 1024 * 1024)\n",
        "  with open('/content/drive/MyDrive/Colab Notebooks/IronyDetectionSmall_TestDataset.txt', 'r') as f:\n",
        "    next(f)\n",
        "    reader=csv.reader(f, dialect=\"excel-tab\")\n",
        "    for line in reader:\n",
        "      #print(line[2])\n",
        "      preProcessedTweetText= preProcessingModule(line[2])\n",
        "      #print(preProcessedTweetText)\n",
        "      testTweets.append(preProcessedTweetText)\n",
        "      if (line[1] == \"1\"):\n",
        "        testLabelGold.append(\"Irony\")\n",
        "      else:\n",
        "        testLabelGold.append(\"Non-Irony\")\n",
        "\n",
        "  #test_label_prediction\n",
        "  X_test = np.array(testTweets)\n",
        "  testLabelPredicted = classifier.predict(X_test) #Predicted labels\n",
        "  #print(testLabelPredicted)\n",
        "  \"\"\"\n",
        "  Classifier- model that has been trained to recognize patterns and make predictions\n",
        "\n",
        "  predict- method of classifier that takes input data and outputs the predicted labels\n",
        "  \"\"\"\n",
        "\n",
        "  # --- Training Label Distribution ---\n",
        "  train_label_counts = Counter(label)\n",
        "  plt.figure(figsize=(8, 5))\n",
        "  sns_bar_train = sns.barplot(\n",
        "      x=list(train_label_counts.keys()),\n",
        "      y=list(train_label_counts.values()),\n",
        "      palette=\"Blues_d\"\n",
        "  )\n",
        "  plt.title(\"Training Set Label Distribution\")\n",
        "  plt.xlabel(\"Label\")\n",
        "  plt.ylabel(\"Number of Instances\")\n",
        "\n",
        "  # Add counts on top of bars with adjusted spacing\n",
        "  for i, count in enumerate(train_label_counts.values()):\n",
        "      sns_bar_train.text(\n",
        "          i,\n",
        "          count + 0.1,  # Slight vertical offset to avoid overlap\n",
        "          str(count),\n",
        "          ha='center',\n",
        "          va='bottom',\n",
        "          fontsize=10\n",
        "      )\n",
        "\n",
        "  plt.tight_layout()\n",
        "  plt.show()\n",
        "\n",
        "  # --- Test Label Distribution ---\n",
        "  test_label_counts = Counter(testLabelGold)\n",
        "  plt.figure(figsize=(8, 5))\n",
        "  sns_bar_test = sns.barplot(\n",
        "      x=list(test_label_counts.keys()),\n",
        "      y=list(test_label_counts.values()),\n",
        "      palette=\"Greens_d\"\n",
        "  )\n",
        "  plt.title(\"Test Set Label Distribution\")\n",
        "  plt.xlabel(\"Label\")\n",
        "  plt.ylabel(\"Number of Instances\")\n",
        "\n",
        "  # Add counts on top of bars with adjusted spacing\n",
        "  for i, count in enumerate(test_label_counts.values()):\n",
        "      sns_bar_test.text(\n",
        "          i,\n",
        "          count + 0.1,  # Slight vertical offset to avoid overlap\n",
        "          str(count),\n",
        "          ha='center',\n",
        "          va='bottom',\n",
        "          fontsize=10\n",
        "      )\n",
        "\n",
        "  plt.tight_layout()\n",
        "  plt.show()\n",
        "\n",
        "  #Evaluation (2D Matrix)\n",
        "  results = confusion_matrix(testLabelGold, testLabelPredicted)\n",
        "\n",
        "  print('Confusion Matrix: ')\n",
        "  print(results)\n",
        "\n",
        "  print('Macro-Average Recall Score: ', recall_score(testLabelGold, testLabelPredicted, average = 'macro'))\n",
        "  print('Macro-Average Precision Score: ', precision_score(testLabelGold, testLabelPredicted, average= 'macro'))\n",
        "  print('Macro-Average F1-Score: ', f1_score(testLabelGold, testLabelPredicted, average= 'macro'))\n",
        "  print('Accuracy: ', accuracy_score(testLabelGold, testLabelPredicted))\n",
        "\n",
        "  print('Evaluation Report: ')\n",
        "  print(classification_report(testLabelGold, testLabelPredicted))\n",
        "\n",
        "if __name__ == '__main__':\n",
        "  main()"
      ]
    }
  ],
  "metadata": {
    "colab": {
      "provenance": []
    },
    "kernelspec": {
      "display_name": "Python 3",
      "name": "python3"
    },
    "language_info": {
      "name": "python"
    }
  },
  "nbformat": 4,
  "nbformat_minor": 0
}